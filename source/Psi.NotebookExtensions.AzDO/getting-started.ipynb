{
 "cells": [
  {
   "cell_type": "markdown",
   "metadata": {},
   "source": [
    "# Getting started with `Psi.NotebookExtensions.AzDO`\n",
    "\n",
    ">A .NET Interactive extension to work with Azure DevOps\n",
    "\n",
    "- [Github: dotnet/interactive](https://github.com/dotnet/interactive)\n",
    "- [Polyglot Notebooks in VS Code](https://code.visualstudio.com/docs/languages/polyglot)"
   ]
  },
  {
   "cell_type": "markdown",
   "metadata": {},
   "source": [
    "## Build the extension"
   ]
  },
  {
   "cell_type": "code",
   "execution_count": null,
   "metadata": {
    "dotnet_interactive": {
     "language": "pwsh"
    },
    "notebookRunGroups": {
     "groupValue": "1"
    },
    "polyglot_notebook": {
     "kernelName": "pwsh"
    },
    "vscode": {
     "languageId": "polyglot-notebook"
    }
   },
   "outputs": [],
   "source": [
    "$extensionName = 'Psi.NotebookExtensions.AzDO';\n",
    "$packageDirectory = $PWD.Path | Join-Path -ChildPath 'bin' -AdditionalChildPath @('nupkg');\n",
    "$userNugetPackages = $Home | Join-Path -ChildPath '.nuget' -AdditionalChildPath @('packages', $extensionName);\n",
    "$packageVersion = '1.0.0';\n",
    "$buildVerbosity = 'quiet';\n",
    "# $TempErrorActionPreference = $ErrorActionPreference;\n",
    "$ErrorActionPreference = 'Stop';\n",
    "\n",
    "\"🕐 Clearing existing nuget packages from build output as well as nuget package cache\";\n",
    "Get-ChildItem -Path $packageDirectory -Filter '*.nupkg' | Remove-Item -Force;\n",
    "Remove-Item -Path $userNugetPackages -Recurse -Force -ErrorAction:Ignore;\n",
    "\n",
    "\"🕑 Building $extensionName`n\";\n",
    "dotnet build --verbosity $buildVerbosity /p:PackageVersion=$packageVersion;\n",
    "\n",
    "if ($LASTEXITCODE -ne 0) {\n",
    "  throw \"❌ Build failed\";\n",
    "}\n",
    "\n",
    "# 3. Check that the package is there\n",
    "\"`n🕒 Getting the resulting nuget package`n\";\n",
    "$nupkg = Get-ChildItem -Path $packageDirectory -Filter \"*.nupkg\" | Select-Object -First 1;\n",
    "\n",
    "if ($null -eq $nupkg -or -not ($nupkg | Test-Path)) {\n",
    "  \"❌ Could not find the resulting nuget package\";\n",
    "  throw;\n",
    "} else {\n",
    "  \"✅ Found the resulting nuget package`n  - $($nupkg.FullName.Replace($PWD.Path, '.'))\";\n",
    "  $packageSource = \"nuget: $($packageDirectory | Resolve-Path)\";\n",
    "}"
   ]
  },
  {
   "cell_type": "markdown",
   "metadata": {},
   "source": [
    "## Import the extension"
   ]
  },
  {
   "cell_type": "markdown",
   "metadata": {},
   "source": [
    "### Add nuget source"
   ]
  },
  {
   "cell_type": "code",
   "execution_count": null,
   "metadata": {
    "dotnet_interactive": {
     "language": "csharp"
    },
    "notebookRunGroups": {
     "groupValue": "1"
    },
    "polyglot_notebook": {
     "kernelName": "csharp"
    },
    "vscode": {
     "languageId": "polyglot-notebook"
    }
   },
   "outputs": [],
   "source": [
    "#i @pwsh:packageSource"
   ]
  },
  {
   "cell_type": "markdown",
   "metadata": {},
   "source": [
    "### Install nuget package"
   ]
  },
  {
   "cell_type": "code",
   "execution_count": null,
   "metadata": {
    "dotnet_interactive": {
     "language": "csharp"
    },
    "notebookRunGroups": {
     "groupValue": "1"
    },
    "polyglot_notebook": {
     "kernelName": "csharp"
    },
    "vscode": {
     "languageId": "polyglot-notebook"
    }
   },
   "outputs": [],
   "source": [
    "#r \"nuget: Psi.NotebookExtensions.AzDO\""
   ]
  },
  {
   "cell_type": "markdown",
   "metadata": {},
   "source": [
    "## Use the extension"
   ]
  },
  {
   "cell_type": "markdown",
   "metadata": {},
   "source": [
    "### Get `#!azdo-pr` magic command help\n",
    "\n",
    "A magic command is a special code command that can be run in an interactive code submission. The magic command concept is familiar to Jupyter users. With a slight change in syntax to accommodate the .NET languages, they're also available in .NET Interactive.\n",
    "\n",
    "Magic commands must always start at the beginning of a line, cannot span more than one line, and are prefixed with either #! or, less commonly, #. The latter occurs only when unifying behaviors with language-specific compiler directives such as #r, a compiler directive that's implemented in both C# and F# script. Unlike Jupyter's magic commands, .NET Interactive there is no distinction between a \"cell magic\" and a \"line magic\"."
   ]
  },
  {
   "cell_type": "code",
   "execution_count": null,
   "metadata": {
    "dotnet_interactive": {
     "language": "csharp"
    },
    "polyglot_notebook": {
     "kernelName": "csharp"
    },
    "vscode": {
     "languageId": "polyglot-notebook"
    }
   },
   "outputs": [],
   "source": [
    "#!azdo-pr --help"
   ]
  },
  {
   "cell_type": "markdown",
   "metadata": {},
   "source": [
    "### Get `#!azdo-pr get` magic command help"
   ]
  },
  {
   "cell_type": "code",
   "execution_count": null,
   "metadata": {
    "dotnet_interactive": {
     "language": "csharp"
    },
    "polyglot_notebook": {
     "kernelName": "csharp"
    },
    "vscode": {
     "languageId": "polyglot-notebook"
    }
   },
   "outputs": [],
   "source": [
    "#!azdo-pr get --help"
   ]
  },
  {
   "cell_type": "markdown",
   "metadata": {},
   "source": [
    "### Get `#!azdo-pr list` magic command help"
   ]
  },
  {
   "cell_type": "code",
   "execution_count": null,
   "metadata": {
    "dotnet_interactive": {
     "language": "csharp"
    },
    "polyglot_notebook": {
     "kernelName": "csharp"
    },
    "vscode": {
     "languageId": "polyglot-notebook"
    }
   },
   "outputs": [],
   "source": [
    "#!azdo-pr list --help"
   ]
  },
  {
   "cell_type": "markdown",
   "metadata": {},
   "source": [
    "### Get a Pull Request by ID"
   ]
  },
  {
   "cell_type": "code",
   "execution_count": null,
   "metadata": {
    "dotnet_interactive": {
     "language": "csharp"
    },
    "notebookRunGroups": {
     "groupValue": ""
    },
    "polyglot_notebook": {
     "kernelName": "csharp"
    },
    "vscode": {
     "languageId": "polyglot-notebook"
    }
   },
   "outputs": [],
   "source": [
    "#!azdo-pr get --id 37063"
   ]
  },
  {
   "cell_type": "markdown",
   "metadata": {},
   "source": [
    "### List Pull Requests by Project & Repository names"
   ]
  },
  {
   "cell_type": "code",
   "execution_count": null,
   "metadata": {
    "dotnet_interactive": {
     "language": "csharp"
    },
    "notebookRunGroups": {
     "groupValue": ""
    },
    "polyglot_notebook": {
     "kernelName": "csharp"
    },
    "vscode": {
     "languageId": "polyglot-notebook"
    }
   },
   "outputs": [],
   "source": [
    "#!azdo-pr list --project \"Netchex Rewrite\" --repository \"Netchex.Gateway.Api\""
   ]
  },
  {
   "cell_type": "markdown",
   "metadata": {},
   "source": [
    "### Raw Output for testing"
   ]
  },
  {
   "cell_type": "code",
   "execution_count": null,
   "metadata": {
    "dotnet_interactive": {
     "language": "csharp"
    },
    "polyglot_notebook": {
     "kernelName": "csharp"
    },
    "vscode": {
     "languageId": "polyglot-notebook"
    }
   },
   "outputs": [],
   "source": [
    "using Microsoft.DotNet.Interactive.Formatting; Formatter.ResetToDefault();"
   ]
  },
  {
   "cell_type": "code",
   "execution_count": null,
   "metadata": {
    "dotnet_interactive": {
     "language": "csharp"
    },
    "polyglot_notebook": {
     "kernelName": "csharp"
    },
    "vscode": {
     "languageId": "polyglot-notebook"
    }
   },
   "outputs": [],
   "source": [
    "#!azdo-pr get --id 37063"
   ]
  },
  {
   "cell_type": "code",
   "execution_count": null,
   "metadata": {
    "dotnet_interactive": {
     "language": "csharp"
    },
    "polyglot_notebook": {
     "kernelName": "csharp"
    },
    "vscode": {
     "languageId": "polyglot-notebook"
    }
   },
   "outputs": [],
   "source": [
    "#!azdo-pr list --project \"Netchex Rewrite\" --repository \"Netchex.Gateway.Api\""
   ]
  }
 ],
 "metadata": {
  "language_info": {
   "name": "python"
  },
  "orig_nbformat": 4
 },
 "nbformat": 4,
 "nbformat_minor": 2
}
